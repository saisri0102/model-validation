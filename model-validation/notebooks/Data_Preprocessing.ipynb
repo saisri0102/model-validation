{
 "cells": [
  {
   "cell_type": "markdown",
   "id": "f0f37a57-94e9-42d1-b405-e6ab77370642",
   "metadata": {},
   "source": [
    "# Data preprocessing\n",
    "\n",
    "In this notebook, I am loading a list of molecules I obtained from ChEMBL and saving 1100 molecules into a separate csv file:"
   ]
  },
  {
   "cell_type": "code",
   "execution_count": 29,
   "id": "ee439ee0",
   "metadata": {},
   "outputs": [],
   "source": [
    "import pandas as pd\n",
    "import numpy as np\n",
    "import matplotlib.pyplot as plt\n",
    "import seaborn as sns\n",
    "import os\n",
    "\n",
    "DATAPATH = \"../data\""
   ]
  },
  {
   "cell_type": "code",
   "execution_count": 30,
   "id": "0b2520f6",
   "metadata": {},
   "outputs": [],
   "source": [
    "df = pd.read_csv(os.path.join(DATAPATH, \"chembl_50k.csv\"), nrows = 1100)"
   ]
  },
  {
   "cell_type": "code",
   "execution_count": 31,
   "id": "7d8c5367",
   "metadata": {},
   "outputs": [
    {
     "data": {
      "text/plain": [
       "(1100, 2)"
      ]
     },
     "execution_count": 31,
     "metadata": {},
     "output_type": "execute_result"
    }
   ],
   "source": [
    "df.shape"
   ]
  },
  {
   "cell_type": "code",
   "execution_count": 32,
   "id": "261b622d",
   "metadata": {},
   "outputs": [
    {
     "name": "stdout",
     "output_type": "stream",
     "text": [
      "Extraction completed successfully.\n"
     ]
    }
   ],
   "source": [
    "import csv\n",
    "\n",
    "input_file = \"chembl_50k.csv\"\n",
    "output_file = \"chembl_selected.csv\"\n",
    "num_rows = 1100\n",
    "\n",
    "# Open input and output files\n",
    "with open(input_file, 'r', newline='') as f_in, open(output_file, 'w', newline='') as f_out:\n",
    "    reader = csv.reader(f_in)\n",
    "    writer = csv.writer(f_out)\n",
    "\n",
    "    # Read header row\n",
    "    header = next(reader)\n",
    "\n",
    "    # Write header to CSV\n",
    "    writer.writerow(['id', 'smiles'])\n",
    "\n",
    "    # Process each row until numRows or end of file\n",
    "    for i, row in enumerate(reader):\n",
    "        if i >= num_rows:\n",
    "            break\n",
    "\n",
    "        # Extract desired columns\n",
    "        id_value = row[0]    # Assuming the id column is the first column (index 0)\n",
    "        smiles = row[1]      # Assuming the smiles column is the second column (index 1)\n",
    "\n",
    "        # Write extracted data to CSV\n",
    "        writer.writerow([id_value, smiles])\n",
    "\n",
    "print(\"Extraction completed successfully.\")\n"
   ]
  },
  {
   "cell_type": "code",
   "execution_count": null,
   "id": "60bb9cb9",
   "metadata": {},
   "outputs": [],
   "source": []
  }
 ],
 "metadata": {
  "kernelspec": {
   "display_name": "Python 3 (ipykernel)",
   "language": "python",
   "name": "python3"
  },
  "language_info": {
   "codemirror_mode": {
    "name": "ipython",
    "version": 3
   },
   "file_extension": ".py",
   "mimetype": "text/x-python",
   "name": "python",
   "nbconvert_exporter": "python",
   "pygments_lexer": "ipython3",
   "version": "3.11.8"
  }
 },
 "nbformat": 4,
 "nbformat_minor": 5
}
