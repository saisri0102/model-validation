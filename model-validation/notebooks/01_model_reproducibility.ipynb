{
 "cells": [
  {
   "cell_type": "markdown",
   "metadata": {},
   "source": [
    "# Model Reproducibility\n",
    "\n",
    "In this notebook I will reproduce one of the examples from the publication associated to the eos30f3 model and compare it with Ersilia Model Hub implementation results."
   ]
  },
  {
   "cell_type": "code",
   "execution_count": 1,
   "metadata": {},
   "outputs": [
    {
     "name": "stderr",
     "output_type": "stream",
     "text": [
      "Failed to find the pandas get_adjustment() function to patch\n",
      "Failed to patch pandas - PandasTools will have limited functionality\n"
     ]
    }
   ],
   "source": [
    "# In this codeblock I will import the necessary packages and specify the paths to relevant folders\n",
    "import os\n",
    "import pandas as pd\n",
    "import numpy as np\n",
    "import matplotlib.pyplot as plt\n",
    "import seaborn as sns\n",
    "import umap\n",
    "import sys\n",
    "import chemprop\n",
    "import pandas as pd\n",
    "import matplotlib.pyplot as plt\n",
    "from matplotlib.offsetbox import AnchoredText\n",
    "from sklearn.metrics import mean_absolute_error, mean_squared_error\n",
    "from sklearn.decomposition import PCA\n",
    "\n",
    "sys.path.append('../src') \n",
    "data_path = \"../data\"\n",
    "FIGUREPATH = \"../figures/\""
   ]
  },
  {
   "cell_type": "markdown",
   "metadata": {},
   "source": [
    "### 1. D-MPNN+moe206"
   ]
  },
  {
   "cell_type": "code",
   "execution_count": 144,
   "metadata": {},
   "outputs": [
    {
     "name": "stdout",
     "output_type": "stream",
     "text": [
      "                                                smiles         class\n",
      "0      C[C@@H]1CCC[NH+]1CCc2oc3ccc(cc3c2)c4cncc(c4)C#N  9.947536e-01\n",
      "1         CCCCCCC[N@@H+](CC)CCCCc1ccc(cc1)[N+](=O)[O-]  9.365226e-01\n",
      "2    CS(=O)(=O)Nc1ccc2OC3(CC[NH+](CC3)C4CCc5cc(ccc5...  9.982115e-01\n",
      "3    Fc1ccc(cc1)n2cc(C3CC[NH+](CCN4CCNC4=S)CC3)c5cc...  9.781892e-01\n",
      "4    Cc1ccc2c(cccc2n1)c3nnc(SCCC[NH+]4CCc5cc6[NH2+]...  9.908385e-01\n",
      "..                                                 ...           ...\n",
      "250  OC[C@H]1CCC[NH+]1CCCOc2ccc3c(Nc4cnn(CC(=O)Nc5c...  6.717941e-02\n",
      "251  Clc1ccc2c(c1)c(cn2C3CCCCC3)C4CC[N+](CCN5CCNC5=...  9.655933e-01\n",
      "252  CC[C@H]1OC(=O)[C@H](C)[C@@H](O[C@H]2C[C@@](C)(...  5.475480e-10\n",
      "253  CN[C@@H](CC#N)[C@@H]1CCN(C1)c2c(F)cc3C(=O)C(=C...  4.197315e-04\n",
      "254    COC(=O)[C@@H]1[C@@H](O)C[C@@H]2CC[C@H]1[N@H+]2C  6.115029e-01\n",
      "\n",
      "[255 rows x 2 columns]\n"
     ]
    }
   ],
   "source": [
    "# In this codeblock I will load the predictions obtained from the original author's code implementation from the /data folder\n",
    "# Read the content of the file\n",
    "import pandas as pd\n",
    "\n",
    "# Read the CSV file into a DataFrame\n",
    "df = pd.read_csv(os.path.join(data_path,'AuthorsPredictions/P_test_108VS147_moe2060.csv'))\n",
    "\n",
    "# Display the DataFrame\n",
    "print(df)\n",
    "\n"
   ]
  },
  {
   "cell_type": "code",
   "execution_count": 126,
   "metadata": {},
   "outputs": [
    {
     "name": "stdout",
     "output_type": "stream",
     "text": [
      "../data/train_moe206_rand\n",
      "../data/test_108VS147.csv\n"
     ]
    },
    {
     "name": "stderr",
     "output_type": "stream",
     "text": [
      "Failed to find the pandas get_adjustment() function to patch\n",
      "Failed to patch pandas - PandasTools will have limited functionality\n"
     ]
    },
    {
     "name": "stdout",
     "output_type": "stream",
     "text": [
      "Loading training args\n",
      "Setting molecule featurization parameters to default.\n",
      "Loading data\n"
     ]
    },
    {
     "name": "stderr",
     "output_type": "stream",
     "text": [
      "255it [00:00, 303503.84it/s]\n",
      "100%|██████████| 255/255 [00:00<00:00, 148527.64it/s]\n"
     ]
    },
    {
     "name": "stdout",
     "output_type": "stream",
     "text": [
      "Validating SMILES\n",
      "Test size = 255\n",
      "Loading pretrained parameter \"encoder.encoder.cached_zero_vector\".\n",
      "Loading pretrained parameter \"encoder.encoder.W_i.weight\".\n",
      "Loading pretrained parameter \"encoder.encoder.W_h.weight\".\n",
      "Loading pretrained parameter \"encoder.encoder.W_o.weight\".\n",
      "Loading pretrained parameter \"encoder.encoder.W_o.bias\".\n",
      "Loading pretrained parameter \"ffn.1.weight\".\n",
      "Loading pretrained parameter \"ffn.1.bias\".\n",
      "Loading pretrained parameter \"ffn.4.weight\".\n",
      "Loading pretrained parameter \"ffn.4.bias\".\n"
     ]
    },
    {
     "name": "stderr",
     "output_type": "stream",
     "text": [
      "  0%|          | 0/1 [00:00<?, ?it/s]\n",
      "  0%|          | 0/6 [00:00<?, ?it/s]\u001b[AFailed to find the pandas get_adjustment() function to patch\n",
      "Failed to patch pandas - PandasTools will have limited functionality\n",
      "Failed to find the pandas get_adjustment() function to patch\n",
      "Failed to patch pandas - PandasTools will have limited functionality\n",
      "Failed to find the pandas get_adjustment() function to patch\n",
      "Failed to patch pandas - PandasTools will have limited functionality\n",
      "Failed to find the pandas get_adjustment() function to patch\n",
      "Failed to patch pandas - PandasTools will have limited functionality\n",
      "Failed to find the pandas get_adjustment() function to patch\n",
      "Failed to patch pandas - PandasTools will have limited functionality\n",
      "Failed to find the pandas get_adjustment() function to patch\n",
      "Failed to patch pandas - PandasTools will have limited functionality\n",
      "Failed to find the pandas get_adjustment() function to patch\n",
      "Failed to patch pandas - PandasTools will have limited functionality\n",
      "Failed to find the pandas get_adjustment() function to patch\n",
      "Failed to patch pandas - PandasTools will have limited functionality\n",
      "\n",
      " 17%|█▋        | 1/6 [00:17<01:25, 17.03s/it]\u001b[A\n",
      " 83%|████████▎ | 5/6 [00:17<00:02,  2.56s/it]\u001b[A\n",
      " 83%|████████▎ | 5/6 [00:29<00:02,  2.56s/it]\u001b[A\n",
      "100%|██████████| 1/1 [00:47<00:00, 47.25s/it]\u001b[A\n"
     ]
    },
    {
     "name": "stdout",
     "output_type": "stream",
     "text": [
      "Saving predictions to ../data/P_test_108VS147_moe2060.csv\n",
      "Elapsed time = 0:00:48\n"
     ]
    },
    {
     "name": "stderr",
     "output_type": "stream",
     "text": [
      "Failed to find the pandas get_adjustment() function to patch\n",
      "Failed to patch pandas - PandasTools will have limited functionality\n"
     ]
    },
    {
     "name": "stdout",
     "output_type": "stream",
     "text": [
      "Loading training args\n",
      "Setting molecule featurization parameters to default.\n",
      "Loading data\n"
     ]
    },
    {
     "name": "stderr",
     "output_type": "stream",
     "text": [
      "255it [00:00, 256547.74it/s]\n",
      "100%|██████████| 255/255 [00:00<00:00, 154625.92it/s]\n"
     ]
    },
    {
     "name": "stdout",
     "output_type": "stream",
     "text": [
      "Validating SMILES\n",
      "Test size = 255\n",
      "Loading pretrained parameter \"encoder.encoder.cached_zero_vector\".\n",
      "Loading pretrained parameter \"encoder.encoder.W_i.weight\".\n",
      "Loading pretrained parameter \"encoder.encoder.W_h.weight\".\n",
      "Loading pretrained parameter \"encoder.encoder.W_o.weight\".\n",
      "Loading pretrained parameter \"encoder.encoder.W_o.bias\".\n",
      "Loading pretrained parameter \"ffn.1.weight\".\n",
      "Loading pretrained parameter \"ffn.1.bias\".\n",
      "Loading pretrained parameter \"ffn.4.weight\".\n",
      "Loading pretrained parameter \"ffn.4.bias\".\n"
     ]
    },
    {
     "name": "stderr",
     "output_type": "stream",
     "text": [
      "  0%|          | 0/1 [00:00<?, ?it/s]\n",
      "  0%|          | 0/6 [00:00<?, ?it/s]\u001b[AFailed to find the pandas get_adjustment() function to patch\n",
      "Failed to patch pandas - PandasTools will have limited functionality\n",
      "Failed to find the pandas get_adjustment() function to patch\n",
      "Failed to patch pandas - PandasTools will have limited functionality\n",
      "Failed to find the pandas get_adjustment() function to patch\n",
      "Failed to patch pandas - PandasTools will have limited functionality\n",
      "Failed to find the pandas get_adjustment() function to patch\n",
      "Failed to patch pandas - PandasTools will have limited functionality\n",
      "Failed to find the pandas get_adjustment() function to patch\n",
      "Failed to patch pandas - PandasTools will have limited functionality\n",
      "Failed to find the pandas get_adjustment() function to patch\n",
      "Failed to patch pandas - PandasTools will have limited functionality\n",
      "Failed to find the pandas get_adjustment() function to patch\n",
      "Failed to patch pandas - PandasTools will have limited functionality\n",
      "Failed to find the pandas get_adjustment() function to patch\n",
      "Failed to patch pandas - PandasTools will have limited functionality\n",
      "\n",
      " 17%|█▋        | 1/6 [00:16<01:23, 16.61s/it]\u001b[A\n",
      "100%|██████████| 1/1 [00:46<00:00, 46.80s/it]\u001b[A\n"
     ]
    },
    {
     "name": "stdout",
     "output_type": "stream",
     "text": [
      "Saving predictions to ../data/P_test_108VS147_moe2061.csv\n",
      "Elapsed time = 0:00:47\n"
     ]
    },
    {
     "name": "stderr",
     "output_type": "stream",
     "text": [
      "Failed to find the pandas get_adjustment() function to patch\n",
      "Failed to patch pandas - PandasTools will have limited functionality\n"
     ]
    },
    {
     "name": "stdout",
     "output_type": "stream",
     "text": [
      "Loading training args\n",
      "Setting molecule featurization parameters to default.\n",
      "Loading data\n"
     ]
    },
    {
     "name": "stderr",
     "output_type": "stream",
     "text": [
      "255it [00:00, 200364.84it/s]\n",
      "100%|██████████| 255/255 [00:00<00:00, 118051.60it/s]\n"
     ]
    },
    {
     "name": "stdout",
     "output_type": "stream",
     "text": [
      "Validating SMILES\n",
      "Test size = 255\n",
      "Loading pretrained parameter \"encoder.encoder.cached_zero_vector\".\n",
      "Loading pretrained parameter \"encoder.encoder.W_i.weight\".\n",
      "Loading pretrained parameter \"encoder.encoder.W_h.weight\".\n",
      "Loading pretrained parameter \"encoder.encoder.W_o.weight\".\n",
      "Loading pretrained parameter \"encoder.encoder.W_o.bias\".\n",
      "Loading pretrained parameter \"ffn.1.weight\".\n",
      "Loading pretrained parameter \"ffn.1.bias\".\n",
      "Loading pretrained parameter \"ffn.4.weight\".\n",
      "Loading pretrained parameter \"ffn.4.bias\".\n"
     ]
    },
    {
     "name": "stderr",
     "output_type": "stream",
     "text": [
      "  0%|          | 0/1 [00:00<?, ?it/s]\n",
      "  0%|          | 0/6 [00:00<?, ?it/s]\u001b[AFailed to find the pandas get_adjustment() function to patch\n",
      "Failed to patch pandas - PandasTools will have limited functionality\n",
      "Failed to find the pandas get_adjustment() function to patch\n",
      "Failed to patch pandas - PandasTools will have limited functionality\n",
      "Failed to find the pandas get_adjustment() function to patch\n",
      "Failed to patch pandas - PandasTools will have limited functionality\n",
      "Failed to find the pandas get_adjustment() function to patch\n",
      "Failed to patch pandas - PandasTools will have limited functionality\n",
      "Failed to find the pandas get_adjustment() function to patch\n",
      "Failed to patch pandas - PandasTools will have limited functionality\n",
      "Failed to find the pandas get_adjustment() function to patch\n",
      "Failed to patch pandas - PandasTools will have limited functionality\n",
      "Failed to find the pandas get_adjustment() function to patch\n",
      "Failed to patch pandas - PandasTools will have limited functionality\n",
      "Failed to find the pandas get_adjustment() function to patch\n",
      "Failed to patch pandas - PandasTools will have limited functionality\n",
      "\n",
      " 17%|█▋        | 1/6 [00:17<01:25, 17.13s/it]\u001b[A\n",
      "100%|██████████| 1/1 [00:47<00:00, 47.31s/it]\u001b[A\n"
     ]
    },
    {
     "name": "stdout",
     "output_type": "stream",
     "text": [
      "Saving predictions to ../data/P_test_108VS147_moe2062.csv\n",
      "Elapsed time = 0:00:48\n"
     ]
    },
    {
     "name": "stderr",
     "output_type": "stream",
     "text": [
      "Failed to find the pandas get_adjustment() function to patch\n",
      "Failed to patch pandas - PandasTools will have limited functionality\n"
     ]
    },
    {
     "name": "stdout",
     "output_type": "stream",
     "text": [
      "Loading training args\n",
      "Setting molecule featurization parameters to default.\n",
      "Loading data\n"
     ]
    },
    {
     "name": "stderr",
     "output_type": "stream",
     "text": [
      "255it [00:00, 264020.62it/s]\n",
      "100%|██████████| 255/255 [00:00<00:00, 145556.28it/s]\n"
     ]
    },
    {
     "name": "stdout",
     "output_type": "stream",
     "text": [
      "Validating SMILES\n",
      "Test size = 255\n",
      "Loading pretrained parameter \"encoder.encoder.cached_zero_vector\".\n",
      "Loading pretrained parameter \"encoder.encoder.W_i.weight\".\n",
      "Loading pretrained parameter \"encoder.encoder.W_h.weight\".\n",
      "Loading pretrained parameter \"encoder.encoder.W_o.weight\".\n",
      "Loading pretrained parameter \"encoder.encoder.W_o.bias\".\n",
      "Loading pretrained parameter \"ffn.1.weight\".\n",
      "Loading pretrained parameter \"ffn.1.bias\".\n",
      "Loading pretrained parameter \"ffn.4.weight\".\n",
      "Loading pretrained parameter \"ffn.4.bias\".\n"
     ]
    },
    {
     "name": "stderr",
     "output_type": "stream",
     "text": [
      "  0%|          | 0/1 [00:00<?, ?it/s]\n",
      "  0%|          | 0/6 [00:00<?, ?it/s]\u001b[AFailed to find the pandas get_adjustment() function to patch\n",
      "Failed to patch pandas - PandasTools will have limited functionality\n",
      "Failed to find the pandas get_adjustment() function to patch\n",
      "Failed to patch pandas - PandasTools will have limited functionality\n",
      "Failed to find the pandas get_adjustment() function to patch\n",
      "Failed to patch pandas - PandasTools will have limited functionality\n",
      "Failed to find the pandas get_adjustment() function to patch\n",
      "Failed to patch pandas - PandasTools will have limited functionality\n",
      "Failed to find the pandas get_adjustment() function to patch\n",
      "Failed to patch pandas - PandasTools will have limited functionality\n",
      "Failed to find the pandas get_adjustment() function to patch\n",
      "Failed to patch pandas - PandasTools will have limited functionality\n",
      "Failed to find the pandas get_adjustment() function to patch\n",
      "Failed to patch pandas - PandasTools will have limited functionality\n",
      "Failed to find the pandas get_adjustment() function to patch\n",
      "Failed to patch pandas - PandasTools will have limited functionality\n",
      "\n",
      " 17%|█▋        | 1/6 [00:16<01:24, 16.92s/it]\u001b[A\n",
      "100%|██████████| 1/1 [00:47<00:00, 47.10s/it]\u001b[A\n"
     ]
    },
    {
     "name": "stdout",
     "output_type": "stream",
     "text": [
      "Saving predictions to ../data/P_test_108VS147_moe2063.csv\n",
      "Elapsed time = 0:00:47\n"
     ]
    },
    {
     "name": "stderr",
     "output_type": "stream",
     "text": [
      "Failed to find the pandas get_adjustment() function to patch\n",
      "Failed to patch pandas - PandasTools will have limited functionality\n"
     ]
    },
    {
     "name": "stdout",
     "output_type": "stream",
     "text": [
      "Loading training args\n",
      "Setting molecule featurization parameters to default.\n",
      "Loading data\n"
     ]
    },
    {
     "name": "stderr",
     "output_type": "stream",
     "text": [
      "255it [00:00, 291033.34it/s]\n",
      "100%|██████████| 255/255 [00:00<00:00, 156733.22it/s]\n"
     ]
    },
    {
     "name": "stdout",
     "output_type": "stream",
     "text": [
      "Validating SMILES\n",
      "Test size = 255\n",
      "Loading pretrained parameter \"encoder.encoder.cached_zero_vector\".\n",
      "Loading pretrained parameter \"encoder.encoder.W_i.weight\".\n",
      "Loading pretrained parameter \"encoder.encoder.W_h.weight\".\n",
      "Loading pretrained parameter \"encoder.encoder.W_o.weight\".\n",
      "Loading pretrained parameter \"encoder.encoder.W_o.bias\".\n",
      "Loading pretrained parameter \"ffn.1.weight\".\n",
      "Loading pretrained parameter \"ffn.1.bias\".\n",
      "Loading pretrained parameter \"ffn.4.weight\".\n",
      "Loading pretrained parameter \"ffn.4.bias\".\n"
     ]
    },
    {
     "name": "stderr",
     "output_type": "stream",
     "text": [
      "  0%|          | 0/1 [00:00<?, ?it/s]\n",
      "  0%|          | 0/6 [00:00<?, ?it/s]\u001b[AFailed to find the pandas get_adjustment() function to patch\n",
      "Failed to patch pandas - PandasTools will have limited functionality\n",
      "Failed to find the pandas get_adjustment() function to patch\n",
      "Failed to patch pandas - PandasTools will have limited functionality\n",
      "Failed to find the pandas get_adjustment() function to patch\n",
      "Failed to patch pandas - PandasTools will have limited functionality\n",
      "Failed to find the pandas get_adjustment() function to patch\n",
      "Failed to patch pandas - PandasTools will have limited functionality\n",
      "Failed to find the pandas get_adjustment() function to patch\n",
      "Failed to patch pandas - PandasTools will have limited functionality\n",
      "Failed to find the pandas get_adjustment() function to patch\n",
      "Failed to patch pandas - PandasTools will have limited functionality\n",
      "Failed to find the pandas get_adjustment() function to patch\n",
      "Failed to patch pandas - PandasTools will have limited functionality\n",
      "Failed to find the pandas get_adjustment() function to patch\n",
      "Failed to patch pandas - PandasTools will have limited functionality\n",
      "\n",
      " 17%|█▋        | 1/6 [00:17<01:28, 17.63s/it]\u001b[A\n",
      "100%|██████████| 1/1 [00:47<00:00, 47.79s/it]\u001b[A\n"
     ]
    },
    {
     "name": "stdout",
     "output_type": "stream",
     "text": [
      "Saving predictions to ../data/P_test_108VS147_moe2064.csv\n",
      "Elapsed time = 0:00:48\n"
     ]
    }
   ],
   "source": [
    "%%bash\n",
    "check_fold='../data/train_moe206_rand'\n",
    "test_path='../data/test_108VS147.csv'\n",
    "features_path='../data/test_108VS147_moe206.csv'\n",
    "preds_base='../data/P_test_108VS147_moe206'\n",
    "echo $check_fold\n",
    "echo $test_path\n",
    "\n",
    "for ((i=0; i<5; i++)); do\n",
    "    python ../chemprop/predict.py \\\n",
    "    --checkpoint_path \"${check_fold}/fold_${i}/model_0/model.pt\" \\\n",
    "    --test_path \"$test_path\" --features_path \"$features_path\" \\\n",
    "    --preds_path \"${preds_base}${i}.csv\"\n",
    "done"
   ]
  },
  {
   "cell_type": "code",
   "execution_count": 16,
   "metadata": {},
   "outputs": [
    {
     "name": "stdout",
     "output_type": "stream",
     "text": [
      "../data/train_moe206_rand\n",
      "../data/test_108VS147.csv\n",
      "-t ../data/test_108VS147.csv -p ../data/P_test_108VS147_moe2060.csv -c 1\n",
      "cols =  [1]\n",
      "xx_col, label_col, value_col =  1 class class\n",
      "header= ['roc', 'prc', 'Recall', 'Precision', 'f1', 'BA', 'accuracy', 'TN', 'FP', 'FN', 'TP', 'SP', 'SE', 'NPV', 'MCC', 'cohen_kappa']\n",
      "-t ../data/test_108VS147.csv -p ../data/P_test_108VS147_moe2061.csv -c 1\n",
      "cols =  [1]\n",
      "xx_col, label_col, value_col =  1 class class\n",
      "header= ['roc', 'prc', 'Recall', 'Precision', 'f1', 'BA', 'accuracy', 'TN', 'FP', 'FN', 'TP', 'SP', 'SE', 'NPV', 'MCC', 'cohen_kappa']\n",
      "-t ../data/test_108VS147.csv -p ../data/P_test_108VS147_moe2062.csv -c 1\n",
      "cols =  [1]\n",
      "xx_col, label_col, value_col =  1 class class\n",
      "header= ['roc', 'prc', 'Recall', 'Precision', 'f1', 'BA', 'accuracy', 'TN', 'FP', 'FN', 'TP', 'SP', 'SE', 'NPV', 'MCC', 'cohen_kappa']\n",
      "-t ../data/test_108VS147.csv -p ../data/P_test_108VS147_moe2063.csv -c 1\n",
      "cols =  [1]\n",
      "xx_col, label_col, value_col =  1 class class\n",
      "header= ['roc', 'prc', 'Recall', 'Precision', 'f1', 'BA', 'accuracy', 'TN', 'FP', 'FN', 'TP', 'SP', 'SE', 'NPV', 'MCC', 'cohen_kappa']\n",
      "-t ../data/test_108VS147.csv -p ../data/P_test_108VS147_moe2064.csv -c 1\n",
      "cols =  [1]\n",
      "xx_col, label_col, value_col =  1 class class\n",
      "header= ['roc', 'prc', 'Recall', 'Precision', 'f1', 'BA', 'accuracy', 'TN', 'FP', 'FN', 'TP', 'SP', 'SE', 'NPV', 'MCC', 'cohen_kappa']\n"
     ]
    }
   ],
   "source": [
    "%%bash\n",
    "check_fold='../data/train_moe206_rand'\n",
    "test_path='../data/test_108VS147.csv'\n",
    "features_path='../data/test_108VS147_moe206.csv'\n",
    "preds_base='../data/P_test_108VS147_moe206'\n",
    "echo $check_fold\n",
    "echo $test_path\n",
    "for ((i=0; i<5; i++)); do\n",
    "    echo $calc_metric -t ${test_path} -p ${preds_base}${i}.csv -c 1\n",
    "    python ../calc_metric.py -t ${test_path} -p ${preds_base}${i}.csv -c 1\n",
    "done"
   ]
  },
  {
   "cell_type": "code",
   "execution_count": 17,
   "metadata": {},
   "outputs": [],
   "source": [
    "%%bash\n",
    "test_path='test_108VS147.csv'\n",
    "preds_base='P_test_108VS147_moe206'\n",
    "test_base=`basename $test_path .csv`\n",
    "cat ../data/eva_${test_base}_${preds_base}*.csv >../data/eva_folds_${test_base}_${preds_base}.csv"
   ]
  },
  {
   "cell_type": "code",
   "execution_count": 38,
   "metadata": {},
   "outputs": [
    {
     "name": "stdout",
     "output_type": "stream",
     "text": [
      "                                                smiles         class\n",
      "0      C[C@@H]1CCC[NH+]1CCc2oc3ccc(cc3c2)c4cncc(c4)C#N  9.947536e-01\n",
      "1         CCCCCCC[N@@H+](CC)CCCCc1ccc(cc1)[N+](=O)[O-]  9.365226e-01\n",
      "2    CS(=O)(=O)Nc1ccc2OC3(CC[NH+](CC3)C4CCc5cc(ccc5...  9.982115e-01\n",
      "3    Fc1ccc(cc1)n2cc(C3CC[NH+](CCN4CCNC4=S)CC3)c5cc...  9.781892e-01\n",
      "4    Cc1ccc2c(cccc2n1)c3nnc(SCCC[NH+]4CCc5cc6[NH2+]...  9.908385e-01\n",
      "..                                                 ...           ...\n",
      "250  OC[C@H]1CCC[NH+]1CCCOc2ccc3c(Nc4cnn(CC(=O)Nc5c...  6.717938e-02\n",
      "251  Clc1ccc2c(c1)c(cn2C3CCCCC3)C4CC[N+](CCN5CCNC5=...  9.655933e-01\n",
      "252  CC[C@H]1OC(=O)[C@H](C)[C@@H](O[C@H]2C[C@@](C)(...  5.475458e-10\n",
      "253  CN[C@@H](CC#N)[C@@H]1CCN(C1)c2c(F)cc3C(=O)C(=C...  4.197311e-04\n",
      "254    COC(=O)[C@@H]1[C@@H](O)C[C@@H]2CC[C@H]1[N@H+]2C  6.115026e-01\n",
      "\n",
      "[255 rows x 2 columns]\n"
     ]
    }
   ],
   "source": [
    "df = pd.read_csv(os.path.join(data_path,'P_test_108VS147_moe2060.csv'))\n",
    "\n",
    "# Display the DataFrame\n",
    "print(df)"
   ]
  },
  {
   "cell_type": "markdown",
   "metadata": {},
   "source": [
    "The reproduced results are same as the authorsPrediction"
   ]
  },
  {
   "cell_type": "code",
   "execution_count": 25,
   "metadata": {},
   "outputs": [],
   "source": [
    "# In this codeblock I will load the predictions obtained from the Ersilia Model Hub implementation saved in the /data folder\n",
    "from ersilia import ErsiliaModel\n",
    "\n",
    "em = ErsiliaModel(\"eos30f3\")"
   ]
  },
  {
   "cell_type": "code",
   "execution_count": 147,
   "metadata": {},
   "outputs": [],
   "source": [
    "em.serve()"
   ]
  },
  {
   "cell_type": "code",
   "execution_count": 28,
   "metadata": {},
   "outputs": [],
   "source": [
    "data = em.run(test_path, output=\"pandas\")"
   ]
  },
  {
   "cell_type": "code",
   "execution_count": 153,
   "metadata": {},
   "outputs": [
    {
     "data": {
      "text/html": [
       "<div>\n",
       "<style scoped>\n",
       "    .dataframe tbody tr th:only-of-type {\n",
       "        vertical-align: middle;\n",
       "    }\n",
       "\n",
       "    .dataframe tbody tr th {\n",
       "        vertical-align: top;\n",
       "    }\n",
       "\n",
       "    .dataframe thead th {\n",
       "        text-align: right;\n",
       "    }\n",
       "</style>\n",
       "<table border=\"1\" class=\"dataframe\">\n",
       "  <thead>\n",
       "    <tr style=\"text-align: right;\">\n",
       "      <th></th>\n",
       "      <th>key</th>\n",
       "      <th>input</th>\n",
       "      <th>activity</th>\n",
       "    </tr>\n",
       "  </thead>\n",
       "  <tbody>\n",
       "    <tr>\n",
       "      <th>0</th>\n",
       "      <td>UGELZTGBPPXJPE-OAHLLOKOSA-O</td>\n",
       "      <td>C[C@@H]1CCC[NH+]1CCc2oc3ccc(cc3c2)c4cncc(c4)C#N</td>\n",
       "      <td>0.886925</td>\n",
       "    </tr>\n",
       "    <tr>\n",
       "      <th>1</th>\n",
       "      <td>YTYATOMQOOFRNA-UHFFFAOYSA-O</td>\n",
       "      <td>CCCCCCC[N@@H+](CC)CCCCc1ccc(cc1)[N+](=O)[O-]</td>\n",
       "      <td>0.785938</td>\n",
       "    </tr>\n",
       "    <tr>\n",
       "      <th>2</th>\n",
       "      <td>NIYGLRKUBPNXQS-UHFFFAOYSA-O</td>\n",
       "      <td>CS(=O)(=O)Nc1ccc2OC3(CC[NH+](CC3)C4CCc5cc(ccc5...</td>\n",
       "      <td>0.850671</td>\n",
       "    </tr>\n",
       "    <tr>\n",
       "      <th>3</th>\n",
       "      <td>UDRWVFGKMDCPTL-UHFFFAOYSA-O</td>\n",
       "      <td>Fc1ccc(cc1)n2cc(C3CC[NH+](CCN4CCNC4=S)CC3)c5cc...</td>\n",
       "      <td>0.886333</td>\n",
       "    </tr>\n",
       "    <tr>\n",
       "      <th>4</th>\n",
       "      <td>JQEQULOLEPTBRS-UHFFFAOYSA-P</td>\n",
       "      <td>Cc1ccc2c(cccc2n1)c3nnc(SCCC[NH+]4CCc5cc6[NH2+]...</td>\n",
       "      <td>0.774152</td>\n",
       "    </tr>\n",
       "    <tr>\n",
       "      <th>...</th>\n",
       "      <td>...</td>\n",
       "      <td>...</td>\n",
       "      <td>...</td>\n",
       "    </tr>\n",
       "    <tr>\n",
       "      <th>250</th>\n",
       "      <td>BQSSHYNPAGSOBT-LJQANCHMSA-O</td>\n",
       "      <td>OC[C@H]1CCC[NH+]1CCCOc2ccc3c(Nc4cnn(CC(=O)Nc5c...</td>\n",
       "      <td>0.845857</td>\n",
       "    </tr>\n",
       "    <tr>\n",
       "      <th>251</th>\n",
       "      <td>CLQSZXFVERHVFU-UHFFFAOYSA-N</td>\n",
       "      <td>Clc1ccc2c(c1)c(cn2C3CCCCC3)C4CC[N+](CCN5CCNC5=...</td>\n",
       "      <td>0.875263</td>\n",
       "    </tr>\n",
       "    <tr>\n",
       "      <th>252</th>\n",
       "      <td>PJVYTFDJHSYNLB-QNPWSHAKSA-N</td>\n",
       "      <td>CC[C@H]1OC(=O)[C@H](C)[C@@H](O[C@H]2C[C@@](C)(...</td>\n",
       "      <td>0.208751</td>\n",
       "    </tr>\n",
       "    <tr>\n",
       "      <th>253</th>\n",
       "      <td>DCRAPCRZDJGSOF-PXAZEXFGSA-M</td>\n",
       "      <td>CN[C@@H](CC#N)[C@@H]1CCN(C1)c2c(F)cc3C(=O)C(=C...</td>\n",
       "      <td>0.390227</td>\n",
       "    </tr>\n",
       "    <tr>\n",
       "      <th>254</th>\n",
       "      <td>QIQNNBXHAYSQRY-KZVJFYERSA-O</td>\n",
       "      <td>COC(=O)[C@@H]1[C@@H](O)C[C@@H]2CC[C@H]1[N@H+]2C</td>\n",
       "      <td>0.198635</td>\n",
       "    </tr>\n",
       "  </tbody>\n",
       "</table>\n",
       "<p>255 rows × 3 columns</p>\n",
       "</div>"
      ],
      "text/plain": [
       "                             key  \\\n",
       "0    UGELZTGBPPXJPE-OAHLLOKOSA-O   \n",
       "1    YTYATOMQOOFRNA-UHFFFAOYSA-O   \n",
       "2    NIYGLRKUBPNXQS-UHFFFAOYSA-O   \n",
       "3    UDRWVFGKMDCPTL-UHFFFAOYSA-O   \n",
       "4    JQEQULOLEPTBRS-UHFFFAOYSA-P   \n",
       "..                           ...   \n",
       "250  BQSSHYNPAGSOBT-LJQANCHMSA-O   \n",
       "251  CLQSZXFVERHVFU-UHFFFAOYSA-N   \n",
       "252  PJVYTFDJHSYNLB-QNPWSHAKSA-N   \n",
       "253  DCRAPCRZDJGSOF-PXAZEXFGSA-M   \n",
       "254  QIQNNBXHAYSQRY-KZVJFYERSA-O   \n",
       "\n",
       "                                                 input  activity  \n",
       "0      C[C@@H]1CCC[NH+]1CCc2oc3ccc(cc3c2)c4cncc(c4)C#N  0.886925  \n",
       "1         CCCCCCC[N@@H+](CC)CCCCc1ccc(cc1)[N+](=O)[O-]  0.785938  \n",
       "2    CS(=O)(=O)Nc1ccc2OC3(CC[NH+](CC3)C4CCc5cc(ccc5...  0.850671  \n",
       "3    Fc1ccc(cc1)n2cc(C3CC[NH+](CCN4CCNC4=S)CC3)c5cc...  0.886333  \n",
       "4    Cc1ccc2c(cccc2n1)c3nnc(SCCC[NH+]4CCc5cc6[NH2+]...  0.774152  \n",
       "..                                                 ...       ...  \n",
       "250  OC[C@H]1CCC[NH+]1CCCOc2ccc3c(Nc4cnn(CC(=O)Nc5c...  0.845857  \n",
       "251  Clc1ccc2c(c1)c(cn2C3CCCCC3)C4CC[N+](CCN5CCNC5=...  0.875263  \n",
       "252  CC[C@H]1OC(=O)[C@H](C)[C@@H](O[C@H]2C[C@@](C)(...  0.208751  \n",
       "253  CN[C@@H](CC#N)[C@@H]1CCN(C1)c2c(F)cc3C(=O)C(=C...  0.390227  \n",
       "254    COC(=O)[C@@H]1[C@@H](O)C[C@@H]2CC[C@H]1[N@H+]2C  0.198635  \n",
       "\n",
       "[255 rows x 3 columns]"
      ]
     },
     "execution_count": 153,
     "metadata": {},
     "output_type": "execute_result"
    }
   ],
   "source": [
    "data"
   ]
  },
  {
   "cell_type": "code",
   "execution_count": 29,
   "metadata": {},
   "outputs": [],
   "source": [
    "data.to_csv(os.path.join(data_path, 'EMHPredictions.csv'), index=False)"
   ]
  },
  {
   "cell_type": "code",
   "execution_count": 45,
   "metadata": {},
   "outputs": [],
   "source": [
    "# In this codeblock I will compare the orginal implementation vs the EMH result\n",
    "\n",
    "import pandas as pd\n",
    "\n",
    "# Read the CSV files into pandas DataFrames\n",
    "df1 = pd.read_csv(os.path.join(data_path, 'P_test_108VS147_moe2064.csv'))\n",
    "df2 = pd.read_csv(os.path.join(data_path, 'EMHPredictions.csv'))\n",
    "\n",
    "# Merge the DataFrames on the common column names\n",
    "merged_df = pd.merge(df1, df2, left_on='smiles', right_on='input')\n",
    "\n",
    "# Extract the columns you want to compare from the merged DataFrame\n",
    "column_to_compare_df1 = merged_df['class']\n",
    "column_to_compare_df2 = merged_df['activity']\n",
    "\n",
    "# Compare the columns\n",
    "difference = column_to_compare_df1 - column_to_compare_df2\n",
    "\n",
    "# Add a new column to the merged DataFrame to store the differences\n",
    "merged_df['difference'] = difference\n",
    "merged_df = merged_df[['difference'] + [col for col in merged_df.columns if col != 'difference']]"
   ]
  },
  {
   "cell_type": "code",
   "execution_count": 47,
   "metadata": {},
   "outputs": [
    {
     "data": {
      "text/html": [
       "<div>\n",
       "<style scoped>\n",
       "    .dataframe tbody tr th:only-of-type {\n",
       "        vertical-align: middle;\n",
       "    }\n",
       "\n",
       "    .dataframe tbody tr th {\n",
       "        vertical-align: top;\n",
       "    }\n",
       "\n",
       "    .dataframe thead th {\n",
       "        text-align: right;\n",
       "    }\n",
       "</style>\n",
       "<table border=\"1\" class=\"dataframe\">\n",
       "  <thead>\n",
       "    <tr style=\"text-align: right;\">\n",
       "      <th></th>\n",
       "      <th>difference</th>\n",
       "      <th>smiles</th>\n",
       "      <th>class</th>\n",
       "      <th>key</th>\n",
       "      <th>input</th>\n",
       "      <th>activity</th>\n",
       "    </tr>\n",
       "  </thead>\n",
       "  <tbody>\n",
       "    <tr>\n",
       "      <th>0</th>\n",
       "      <td>0.100660</td>\n",
       "      <td>C[C@@H]1CCC[NH+]1CCc2oc3ccc(cc3c2)c4cncc(c4)C#N</td>\n",
       "      <td>9.875852e-01</td>\n",
       "      <td>UGELZTGBPPXJPE-OAHLLOKOSA-O</td>\n",
       "      <td>C[C@@H]1CCC[NH+]1CCc2oc3ccc(cc3c2)c4cncc(c4)C#N</td>\n",
       "      <td>0.886925</td>\n",
       "    </tr>\n",
       "    <tr>\n",
       "      <th>1</th>\n",
       "      <td>0.057141</td>\n",
       "      <td>CCCCCCC[N@@H+](CC)CCCCc1ccc(cc1)[N+](=O)[O-]</td>\n",
       "      <td>8.430791e-01</td>\n",
       "      <td>YTYATOMQOOFRNA-UHFFFAOYSA-O</td>\n",
       "      <td>CCCCCCC[N@@H+](CC)CCCCc1ccc(cc1)[N+](=O)[O-]</td>\n",
       "      <td>0.785938</td>\n",
       "    </tr>\n",
       "    <tr>\n",
       "      <th>2</th>\n",
       "      <td>0.081370</td>\n",
       "      <td>CS(=O)(=O)Nc1ccc2OC3(CC[NH+](CC3)C4CCc5cc(ccc5...</td>\n",
       "      <td>9.320408e-01</td>\n",
       "      <td>NIYGLRKUBPNXQS-UHFFFAOYSA-O</td>\n",
       "      <td>CS(=O)(=O)Nc1ccc2OC3(CC[NH+](CC3)C4CCc5cc(ccc5...</td>\n",
       "      <td>0.850671</td>\n",
       "    </tr>\n",
       "    <tr>\n",
       "      <th>3</th>\n",
       "      <td>0.046888</td>\n",
       "      <td>Fc1ccc(cc1)n2cc(C3CC[NH+](CCN4CCNC4=S)CC3)c5cc...</td>\n",
       "      <td>9.332212e-01</td>\n",
       "      <td>UDRWVFGKMDCPTL-UHFFFAOYSA-O</td>\n",
       "      <td>Fc1ccc(cc1)n2cc(C3CC[NH+](CCN4CCNC4=S)CC3)c5cc...</td>\n",
       "      <td>0.886333</td>\n",
       "    </tr>\n",
       "    <tr>\n",
       "      <th>4</th>\n",
       "      <td>0.173512</td>\n",
       "      <td>Cc1ccc2c(cccc2n1)c3nnc(SCCC[NH+]4CCc5cc6[NH2+]...</td>\n",
       "      <td>9.476634e-01</td>\n",
       "      <td>JQEQULOLEPTBRS-UHFFFAOYSA-P</td>\n",
       "      <td>Cc1ccc2c(cccc2n1)c3nnc(SCCC[NH+]4CCc5cc6[NH2+]...</td>\n",
       "      <td>0.774152</td>\n",
       "    </tr>\n",
       "    <tr>\n",
       "      <th>...</th>\n",
       "      <td>...</td>\n",
       "      <td>...</td>\n",
       "      <td>...</td>\n",
       "      <td>...</td>\n",
       "      <td>...</td>\n",
       "      <td>...</td>\n",
       "    </tr>\n",
       "    <tr>\n",
       "      <th>250</th>\n",
       "      <td>-0.587389</td>\n",
       "      <td>OC[C@H]1CCC[NH+]1CCCOc2ccc3c(Nc4cnn(CC(=O)Nc5c...</td>\n",
       "      <td>2.584675e-01</td>\n",
       "      <td>BQSSHYNPAGSOBT-LJQANCHMSA-O</td>\n",
       "      <td>OC[C@H]1CCC[NH+]1CCCOc2ccc3c(Nc4cnn(CC(=O)Nc5c...</td>\n",
       "      <td>0.845857</td>\n",
       "    </tr>\n",
       "    <tr>\n",
       "      <th>251</th>\n",
       "      <td>0.020094</td>\n",
       "      <td>Clc1ccc2c(c1)c(cn2C3CCCCC3)C4CC[N+](CCN5CCNC5=...</td>\n",
       "      <td>8.953571e-01</td>\n",
       "      <td>CLQSZXFVERHVFU-UHFFFAOYSA-N</td>\n",
       "      <td>Clc1ccc2c(c1)c(cn2C3CCCCC3)C4CC[N+](CCN5CCNC5=...</td>\n",
       "      <td>0.875263</td>\n",
       "    </tr>\n",
       "    <tr>\n",
       "      <th>252</th>\n",
       "      <td>-0.208750</td>\n",
       "      <td>CC[C@H]1OC(=O)[C@H](C)[C@@H](O[C@H]2C[C@@](C)(...</td>\n",
       "      <td>8.730701e-07</td>\n",
       "      <td>PJVYTFDJHSYNLB-QNPWSHAKSA-N</td>\n",
       "      <td>CC[C@H]1OC(=O)[C@H](C)[C@@H](O[C@H]2C[C@@](C)(...</td>\n",
       "      <td>0.208751</td>\n",
       "    </tr>\n",
       "    <tr>\n",
       "      <th>253</th>\n",
       "      <td>-0.382234</td>\n",
       "      <td>CN[C@@H](CC#N)[C@@H]1CCN(C1)c2c(F)cc3C(=O)C(=C...</td>\n",
       "      <td>7.993252e-03</td>\n",
       "      <td>DCRAPCRZDJGSOF-PXAZEXFGSA-M</td>\n",
       "      <td>CN[C@@H](CC#N)[C@@H]1CCN(C1)c2c(F)cc3C(=O)C(=C...</td>\n",
       "      <td>0.390227</td>\n",
       "    </tr>\n",
       "    <tr>\n",
       "      <th>254</th>\n",
       "      <td>-0.188086</td>\n",
       "      <td>COC(=O)[C@@H]1[C@@H](O)C[C@@H]2CC[C@H]1[N@H+]2C</td>\n",
       "      <td>1.054895e-02</td>\n",
       "      <td>QIQNNBXHAYSQRY-KZVJFYERSA-O</td>\n",
       "      <td>COC(=O)[C@@H]1[C@@H](O)C[C@@H]2CC[C@H]1[N@H+]2C</td>\n",
       "      <td>0.198635</td>\n",
       "    </tr>\n",
       "  </tbody>\n",
       "</table>\n",
       "<p>255 rows × 6 columns</p>\n",
       "</div>"
      ],
      "text/plain": [
       "     difference                                             smiles  \\\n",
       "0      0.100660    C[C@@H]1CCC[NH+]1CCc2oc3ccc(cc3c2)c4cncc(c4)C#N   \n",
       "1      0.057141       CCCCCCC[N@@H+](CC)CCCCc1ccc(cc1)[N+](=O)[O-]   \n",
       "2      0.081370  CS(=O)(=O)Nc1ccc2OC3(CC[NH+](CC3)C4CCc5cc(ccc5...   \n",
       "3      0.046888  Fc1ccc(cc1)n2cc(C3CC[NH+](CCN4CCNC4=S)CC3)c5cc...   \n",
       "4      0.173512  Cc1ccc2c(cccc2n1)c3nnc(SCCC[NH+]4CCc5cc6[NH2+]...   \n",
       "..          ...                                                ...   \n",
       "250   -0.587389  OC[C@H]1CCC[NH+]1CCCOc2ccc3c(Nc4cnn(CC(=O)Nc5c...   \n",
       "251    0.020094  Clc1ccc2c(c1)c(cn2C3CCCCC3)C4CC[N+](CCN5CCNC5=...   \n",
       "252   -0.208750  CC[C@H]1OC(=O)[C@H](C)[C@@H](O[C@H]2C[C@@](C)(...   \n",
       "253   -0.382234  CN[C@@H](CC#N)[C@@H]1CCN(C1)c2c(F)cc3C(=O)C(=C...   \n",
       "254   -0.188086    COC(=O)[C@@H]1[C@@H](O)C[C@@H]2CC[C@H]1[N@H+]2C   \n",
       "\n",
       "            class                          key  \\\n",
       "0    9.875852e-01  UGELZTGBPPXJPE-OAHLLOKOSA-O   \n",
       "1    8.430791e-01  YTYATOMQOOFRNA-UHFFFAOYSA-O   \n",
       "2    9.320408e-01  NIYGLRKUBPNXQS-UHFFFAOYSA-O   \n",
       "3    9.332212e-01  UDRWVFGKMDCPTL-UHFFFAOYSA-O   \n",
       "4    9.476634e-01  JQEQULOLEPTBRS-UHFFFAOYSA-P   \n",
       "..            ...                          ...   \n",
       "250  2.584675e-01  BQSSHYNPAGSOBT-LJQANCHMSA-O   \n",
       "251  8.953571e-01  CLQSZXFVERHVFU-UHFFFAOYSA-N   \n",
       "252  8.730701e-07  PJVYTFDJHSYNLB-QNPWSHAKSA-N   \n",
       "253  7.993252e-03  DCRAPCRZDJGSOF-PXAZEXFGSA-M   \n",
       "254  1.054895e-02  QIQNNBXHAYSQRY-KZVJFYERSA-O   \n",
       "\n",
       "                                                 input  activity  \n",
       "0      C[C@@H]1CCC[NH+]1CCc2oc3ccc(cc3c2)c4cncc(c4)C#N  0.886925  \n",
       "1         CCCCCCC[N@@H+](CC)CCCCc1ccc(cc1)[N+](=O)[O-]  0.785938  \n",
       "2    CS(=O)(=O)Nc1ccc2OC3(CC[NH+](CC3)C4CCc5cc(ccc5...  0.850671  \n",
       "3    Fc1ccc(cc1)n2cc(C3CC[NH+](CCN4CCNC4=S)CC3)c5cc...  0.886333  \n",
       "4    Cc1ccc2c(cccc2n1)c3nnc(SCCC[NH+]4CCc5cc6[NH2+]...  0.774152  \n",
       "..                                                 ...       ...  \n",
       "250  OC[C@H]1CCC[NH+]1CCCOc2ccc3c(Nc4cnn(CC(=O)Nc5c...  0.845857  \n",
       "251  Clc1ccc2c(c1)c(cn2C3CCCCC3)C4CC[N+](CCN5CCNC5=...  0.875263  \n",
       "252  CC[C@H]1OC(=O)[C@H](C)[C@@H](O[C@H]2C[C@@](C)(...  0.208751  \n",
       "253  CN[C@@H](CC#N)[C@@H]1CCN(C1)c2c(F)cc3C(=O)C(=C...  0.390227  \n",
       "254    COC(=O)[C@@H]1[C@@H](O)C[C@@H]2CC[C@H]1[N@H+]2C  0.198635  \n",
       "\n",
       "[255 rows x 6 columns]"
      ]
     },
     "execution_count": 47,
     "metadata": {},
     "output_type": "execute_result"
    }
   ],
   "source": [
    "merged_df"
   ]
  },
  {
   "cell_type": "markdown",
   "metadata": {},
   "source": [
    "####  2. D-MPNN without feature"
   ]
  },
  {
   "cell_type": "code",
   "execution_count": 27,
   "metadata": {},
   "outputs": [
    {
     "name": "stdout",
     "output_type": "stream",
     "text": [
      "                                                smiles     class\n",
      "0      C[C@@H]1CCC[NH+]1CCc2oc3ccc(cc3c2)c4cncc(c4)C#N  0.985650\n",
      "1         CCCCCCC[N@@H+](CC)CCCCc1ccc(cc1)[N+](=O)[O-]  0.086860\n",
      "2    CS(=O)(=O)Nc1ccc2OC3(CC[NH+](CC3)C4CCc5cc(ccc5...  0.995024\n",
      "3    Fc1ccc(cc1)n2cc(C3CC[NH+](CCN4CCNC4=S)CC3)c5cc...  0.979510\n",
      "4    Cc1ccc2c(cccc2n1)c3nnc(SCCC[NH+]4CCc5cc6[NH2+]...  0.975559\n",
      "..                                                 ...       ...\n",
      "250  OC[C@H]1CCC[NH+]1CCCOc2ccc3c(Nc4cnn(CC(=O)Nc5c...  0.746229\n",
      "251  Clc1ccc2c(c1)c(cn2C3CCCCC3)C4CC[N+](CCN5CCNC5=...  0.921453\n",
      "252  CC[C@H]1OC(=O)[C@H](C)[C@@H](O[C@H]2C[C@@](C)(...  0.000008\n",
      "253  CN[C@@H](CC#N)[C@@H]1CCN(C1)c2c(F)cc3C(=O)C(=C...  0.012800\n",
      "254    COC(=O)[C@@H]1[C@@H](O)C[C@@H]2CC[C@H]1[N@H+]2C  0.448671\n",
      "\n",
      "[255 rows x 2 columns]\n"
     ]
    }
   ],
   "source": [
    "# In this codeblock I will load the predictions obtained from the original author's code implementation from the /data folder\n",
    "# Read the content of the file\n",
    "import pandas as pd\n",
    "\n",
    "# Read the CSV file into a DataFrame\n",
    "df = pd.read_csv(os.path.join(data_path,'AuthorsPredictions/P_test_108VS147_noFP0.csv'))\n",
    "\n",
    "# Display the DataFrame\n",
    "print(df)\n",
    "\n"
   ]
  },
  {
   "cell_type": "code",
   "execution_count": 18,
   "metadata": {},
   "outputs": [
    {
     "name": "stderr",
     "output_type": "stream",
     "text": [
      "Failed to find the pandas get_adjustment() function to patch\n",
      "Failed to patch pandas - PandasTools will have limited functionality\n"
     ]
    },
    {
     "name": "stdout",
     "output_type": "stream",
     "text": [
      "Loading training args\n",
      "Setting molecule featurization parameters to default.\n",
      "Loading data\n"
     ]
    },
    {
     "name": "stderr",
     "output_type": "stream",
     "text": [
      "255it [00:00, 385283.69it/s]\n",
      "100%|██████████| 255/255 [00:00<00:00, 325684.38it/s]\n"
     ]
    },
    {
     "name": "stdout",
     "output_type": "stream",
     "text": [
      "Validating SMILES\n",
      "Test size = 255\n",
      "Loading pretrained parameter \"encoder.encoder.cached_zero_vector\".\n",
      "Loading pretrained parameter \"encoder.encoder.W_i.weight\".\n",
      "Loading pretrained parameter \"encoder.encoder.W_h.weight\".\n",
      "Loading pretrained parameter \"encoder.encoder.W_o.weight\".\n",
      "Loading pretrained parameter \"encoder.encoder.W_o.bias\".\n",
      "Loading pretrained parameter \"ffn.1.weight\".\n",
      "Loading pretrained parameter \"ffn.1.bias\".\n",
      "Loading pretrained parameter \"ffn.4.weight\".\n",
      "Loading pretrained parameter \"ffn.4.bias\".\n"
     ]
    },
    {
     "name": "stderr",
     "output_type": "stream",
     "text": [
      "  0%|          | 0/1 [00:00<?, ?it/s]\n",
      "  0%|          | 0/6 [00:00<?, ?it/s]\u001b[AFailed to find the pandas get_adjustment() function to patch\n",
      "Failed to patch pandas - PandasTools will have limited functionality\n",
      "Failed to find the pandas get_adjustment() function to patch\n",
      "Failed to patch pandas - PandasTools will have limited functionality\n",
      "Failed to find the pandas get_adjustment() function to patch\n",
      "Failed to patch pandas - PandasTools will have limited functionality\n",
      "Failed to find the pandas get_adjustment() function to patch\n",
      "Failed to patch pandas - PandasTools will have limited functionality\n",
      "Failed to find the pandas get_adjustment() function to patch\n",
      "Failed to patch pandas - PandasTools will have limited functionality\n",
      "Failed to find the pandas get_adjustment() function to patch\n",
      "Failed to patch pandas - PandasTools will have limited functionality\n",
      "Failed to find the pandas get_adjustment() function to patch\n",
      "Failed to patch pandas - PandasTools will have limited functionality\n",
      "Failed to find the pandas get_adjustment() function to patch\n",
      "Failed to patch pandas - PandasTools will have limited functionality\n",
      "\n",
      " 17%|█▋        | 1/6 [00:04<00:22,  4.47s/it]\u001b[A\n",
      "100%|██████████| 6/6 [00:04<00:00,  1.77it/s]\u001b[A\n",
      "100%|██████████| 6/6 [00:19<00:00,  1.77it/s]\u001b[A\n",
      "100%|██████████| 1/1 [00:34<00:00, 34.74s/it]\u001b[A\n"
     ]
    },
    {
     "name": "stdout",
     "output_type": "stream",
     "text": [
      "Saving predictions to ../data/P_test_108VS147_noFP0.csv\n",
      "Elapsed time = 0:00:35\n"
     ]
    },
    {
     "name": "stderr",
     "output_type": "stream",
     "text": [
      "Failed to find the pandas get_adjustment() function to patch\n",
      "Failed to patch pandas - PandasTools will have limited functionality\n"
     ]
    },
    {
     "name": "stdout",
     "output_type": "stream",
     "text": [
      "Loading training args\n",
      "Setting molecule featurization parameters to default.\n",
      "Loading data\n"
     ]
    },
    {
     "name": "stderr",
     "output_type": "stream",
     "text": [
      "255it [00:00, 448071.86it/s]\n",
      "100%|██████████| 255/255 [00:00<00:00, 345015.33it/s]\n"
     ]
    },
    {
     "name": "stdout",
     "output_type": "stream",
     "text": [
      "Validating SMILES\n",
      "Test size = 255\n",
      "Loading pretrained parameter \"encoder.encoder.cached_zero_vector\".\n",
      "Loading pretrained parameter \"encoder.encoder.W_i.weight\".\n",
      "Loading pretrained parameter \"encoder.encoder.W_h.weight\".\n",
      "Loading pretrained parameter \"encoder.encoder.W_o.weight\".\n",
      "Loading pretrained parameter \"encoder.encoder.W_o.bias\".\n",
      "Loading pretrained parameter \"ffn.1.weight\".\n",
      "Loading pretrained parameter \"ffn.1.bias\".\n",
      "Loading pretrained parameter \"ffn.4.weight\".\n",
      "Loading pretrained parameter \"ffn.4.bias\".\n"
     ]
    },
    {
     "name": "stderr",
     "output_type": "stream",
     "text": [
      "  0%|          | 0/1 [00:00<?, ?it/s]\n",
      "  0%|          | 0/6 [00:00<?, ?it/s]\u001b[AFailed to find the pandas get_adjustment() function to patch\n",
      "Failed to patch pandas - PandasTools will have limited functionality\n",
      "Failed to find the pandas get_adjustment() function to patch\n",
      "Failed to patch pandas - PandasTools will have limited functionality\n",
      "Failed to find the pandas get_adjustment() function to patch\n",
      "Failed to patch pandas - PandasTools will have limited functionality\n",
      "Failed to find the pandas get_adjustment() function to patch\n",
      "Failed to patch pandas - PandasTools will have limited functionality\n",
      "Failed to find the pandas get_adjustment() function to patch\n",
      "Failed to patch pandas - PandasTools will have limited functionality\n",
      "Failed to find the pandas get_adjustment() function to patch\n",
      "Failed to patch pandas - PandasTools will have limited functionality\n",
      "Failed to find the pandas get_adjustment() function to patch\n",
      "Failed to patch pandas - PandasTools will have limited functionality\n",
      "Failed to find the pandas get_adjustment() function to patch\n",
      "Failed to patch pandas - PandasTools will have limited functionality\n",
      "\n",
      " 17%|█▋        | 1/6 [00:04<00:21,  4.33s/it]\u001b[A\n",
      " 33%|███▎      | 2/6 [00:04<00:07,  1.84s/it]\u001b[A\n",
      "100%|██████████| 1/1 [00:34<00:00, 34.63s/it]\u001b[A\n"
     ]
    },
    {
     "name": "stdout",
     "output_type": "stream",
     "text": [
      "Saving predictions to ../data/P_test_108VS147_noFP1.csv\n",
      "Elapsed time = 0:00:35\n"
     ]
    },
    {
     "name": "stderr",
     "output_type": "stream",
     "text": [
      "Failed to find the pandas get_adjustment() function to patch\n",
      "Failed to patch pandas - PandasTools will have limited functionality\n"
     ]
    },
    {
     "name": "stdout",
     "output_type": "stream",
     "text": [
      "Loading training args\n",
      "Setting molecule featurization parameters to default.\n",
      "Loading data\n"
     ]
    },
    {
     "name": "stderr",
     "output_type": "stream",
     "text": [
      "255it [00:00, 408536.10it/s]\n",
      "100%|██████████| 255/255 [00:00<00:00, 262594.53it/s]\n"
     ]
    },
    {
     "name": "stdout",
     "output_type": "stream",
     "text": [
      "Validating SMILES\n",
      "Test size = 255\n",
      "Loading pretrained parameter \"encoder.encoder.cached_zero_vector\".\n",
      "Loading pretrained parameter \"encoder.encoder.W_i.weight\".\n",
      "Loading pretrained parameter \"encoder.encoder.W_h.weight\".\n",
      "Loading pretrained parameter \"encoder.encoder.W_o.weight\".\n",
      "Loading pretrained parameter \"encoder.encoder.W_o.bias\".\n",
      "Loading pretrained parameter \"ffn.1.weight\".\n",
      "Loading pretrained parameter \"ffn.1.bias\".\n",
      "Loading pretrained parameter \"ffn.4.weight\".\n",
      "Loading pretrained parameter \"ffn.4.bias\".\n"
     ]
    },
    {
     "name": "stderr",
     "output_type": "stream",
     "text": [
      "  0%|          | 0/1 [00:00<?, ?it/s]\n",
      "  0%|          | 0/6 [00:00<?, ?it/s]\u001b[AFailed to find the pandas get_adjustment() function to patch\n",
      "Failed to patch pandas - PandasTools will have limited functionality\n",
      "Failed to find the pandas get_adjustment() function to patch\n",
      "Failed to patch pandas - PandasTools will have limited functionality\n",
      "Failed to find the pandas get_adjustment() function to patch\n",
      "Failed to patch pandas - PandasTools will have limited functionality\n",
      "Failed to find the pandas get_adjustment() function to patch\n",
      "Failed to patch pandas - PandasTools will have limited functionality\n",
      "Failed to find the pandas get_adjustment() function to patch\n",
      "Failed to patch pandas - PandasTools will have limited functionality\n",
      "Failed to find the pandas get_adjustment() function to patch\n",
      "Failed to patch pandas - PandasTools will have limited functionality\n",
      "Failed to find the pandas get_adjustment() function to patch\n",
      "Failed to patch pandas - PandasTools will have limited functionality\n",
      "Failed to find the pandas get_adjustment() function to patch\n",
      "Failed to patch pandas - PandasTools will have limited functionality\n",
      "\n",
      " 17%|█▋        | 1/6 [00:04<00:21,  4.39s/it]\u001b[A\n",
      "100%|██████████| 1/1 [00:34<00:00, 34.61s/it]\u001b[A\n"
     ]
    },
    {
     "name": "stdout",
     "output_type": "stream",
     "text": [
      "Saving predictions to ../data/P_test_108VS147_noFP2.csv\n",
      "Elapsed time = 0:00:35\n"
     ]
    },
    {
     "name": "stderr",
     "output_type": "stream",
     "text": [
      "Failed to find the pandas get_adjustment() function to patch\n",
      "Failed to patch pandas - PandasTools will have limited functionality\n"
     ]
    },
    {
     "name": "stdout",
     "output_type": "stream",
     "text": [
      "Loading training args\n",
      "Setting molecule featurization parameters to default.\n",
      "Loading data\n"
     ]
    },
    {
     "name": "stderr",
     "output_type": "stream",
     "text": [
      "255it [00:00, 392350.52it/s]\n",
      "100%|██████████| 255/255 [00:00<00:00, 315686.99it/s]\n"
     ]
    },
    {
     "name": "stdout",
     "output_type": "stream",
     "text": [
      "Validating SMILES\n",
      "Test size = 255\n",
      "Loading pretrained parameter \"encoder.encoder.cached_zero_vector\".\n",
      "Loading pretrained parameter \"encoder.encoder.W_i.weight\".\n",
      "Loading pretrained parameter \"encoder.encoder.W_h.weight\".\n",
      "Loading pretrained parameter \"encoder.encoder.W_o.weight\".\n",
      "Loading pretrained parameter \"encoder.encoder.W_o.bias\".\n",
      "Loading pretrained parameter \"ffn.1.weight\".\n",
      "Loading pretrained parameter \"ffn.1.bias\".\n",
      "Loading pretrained parameter \"ffn.4.weight\".\n",
      "Loading pretrained parameter \"ffn.4.bias\".\n"
     ]
    },
    {
     "name": "stderr",
     "output_type": "stream",
     "text": [
      "  0%|          | 0/1 [00:00<?, ?it/s]\n",
      "  0%|          | 0/6 [00:00<?, ?it/s]\u001b[AFailed to find the pandas get_adjustment() function to patch\n",
      "Failed to patch pandas - PandasTools will have limited functionality\n",
      "Failed to find the pandas get_adjustment() function to patch\n",
      "Failed to patch pandas - PandasTools will have limited functionality\n",
      "Failed to find the pandas get_adjustment() function to patch\n",
      "Failed to patch pandas - PandasTools will have limited functionality\n",
      "Failed to find the pandas get_adjustment() function to patch\n",
      "Failed to patch pandas - PandasTools will have limited functionality\n",
      "Failed to find the pandas get_adjustment() function to patch\n",
      "Failed to patch pandas - PandasTools will have limited functionality\n",
      "Failed to find the pandas get_adjustment() function to patch\n",
      "Failed to patch pandas - PandasTools will have limited functionality\n",
      "Failed to find the pandas get_adjustment() function to patch\n",
      "Failed to patch pandas - PandasTools will have limited functionality\n",
      "Failed to find the pandas get_adjustment() function to patch\n",
      "Failed to patch pandas - PandasTools will have limited functionality\n",
      "\n",
      " 17%|█▋        | 1/6 [00:04<00:20,  4.02s/it]\u001b[A\n",
      " 83%|████████▎ | 5/6 [00:04<00:00,  1.61it/s]\u001b[A\n",
      " 83%|████████▎ | 5/6 [00:19<00:00,  1.61it/s]\u001b[A\n",
      "100%|██████████| 1/1 [00:34<00:00, 34.28s/it]\u001b[A\n"
     ]
    },
    {
     "name": "stdout",
     "output_type": "stream",
     "text": [
      "Saving predictions to ../data/P_test_108VS147_noFP3.csv\n",
      "Elapsed time = 0:00:35\n"
     ]
    },
    {
     "name": "stderr",
     "output_type": "stream",
     "text": [
      "Failed to find the pandas get_adjustment() function to patch\n",
      "Failed to patch pandas - PandasTools will have limited functionality\n"
     ]
    },
    {
     "name": "stdout",
     "output_type": "stream",
     "text": [
      "Loading training args\n",
      "Setting molecule featurization parameters to default.\n",
      "Loading data\n"
     ]
    },
    {
     "name": "stderr",
     "output_type": "stream",
     "text": [
      "255it [00:00, 378333.05it/s]\n",
      "100%|██████████| 255/255 [00:00<00:00, 331334.42it/s]\n"
     ]
    },
    {
     "name": "stdout",
     "output_type": "stream",
     "text": [
      "Validating SMILES\n",
      "Test size = 255\n",
      "Loading pretrained parameter \"encoder.encoder.cached_zero_vector\".\n",
      "Loading pretrained parameter \"encoder.encoder.W_i.weight\".\n",
      "Loading pretrained parameter \"encoder.encoder.W_h.weight\".\n",
      "Loading pretrained parameter \"encoder.encoder.W_o.weight\".\n",
      "Loading pretrained parameter \"encoder.encoder.W_o.bias\".\n",
      "Loading pretrained parameter \"ffn.1.weight\".\n",
      "Loading pretrained parameter \"ffn.1.bias\".\n",
      "Loading pretrained parameter \"ffn.4.weight\".\n",
      "Loading pretrained parameter \"ffn.4.bias\".\n"
     ]
    },
    {
     "name": "stderr",
     "output_type": "stream",
     "text": [
      "  0%|          | 0/1 [00:00<?, ?it/s]\n",
      "  0%|          | 0/6 [00:00<?, ?it/s]\u001b[AFailed to find the pandas get_adjustment() function to patch\n",
      "Failed to patch pandas - PandasTools will have limited functionality\n",
      "Failed to find the pandas get_adjustment() function to patch\n",
      "Failed to patch pandas - PandasTools will have limited functionality\n",
      "Failed to find the pandas get_adjustment() function to patch\n",
      "Failed to patch pandas - PandasTools will have limited functionality\n",
      "Failed to find the pandas get_adjustment() function to patch\n",
      "Failed to patch pandas - PandasTools will have limited functionality\n",
      "Failed to find the pandas get_adjustment() function to patch\n",
      "Failed to patch pandas - PandasTools will have limited functionality\n",
      "Failed to find the pandas get_adjustment() function to patch\n",
      "Failed to patch pandas - PandasTools will have limited functionality\n",
      "Failed to find the pandas get_adjustment() function to patch\n",
      "Failed to patch pandas - PandasTools will have limited functionality\n",
      "Failed to find the pandas get_adjustment() function to patch\n",
      "Failed to patch pandas - PandasTools will have limited functionality\n",
      "\n",
      " 17%|█▋        | 1/6 [00:04<00:21,  4.38s/it]\u001b[A\n",
      "100%|██████████| 1/1 [00:34<00:00, 34.60s/it]\u001b[A\n"
     ]
    },
    {
     "name": "stdout",
     "output_type": "stream",
     "text": [
      "Saving predictions to ../data/P_test_108VS147_noFP4.csv\n",
      "Elapsed time = 0:00:35\n"
     ]
    }
   ],
   "source": [
    "%%bash\n",
    "check_fold='../data/train_noFP_rand'\n",
    "test_path='../data/test_108VS147.csv'\n",
    "preds_base='../data/P_test_108VS147_noFP'\n",
    "\n",
    "for ((i=0; i<5; i++)); do\n",
    "    python ../chemprop/predict.py \\\n",
    "    --checkpoint_path \"${check_fold}/fold_${i}/model_0/model.pt\" \\\n",
    "    --test_path \"$test_path\" --preds_path \"${preds_base}${i}.csv\"\n",
    "done"
   ]
  },
  {
   "cell_type": "code",
   "execution_count": 19,
   "metadata": {},
   "outputs": [
    {
     "name": "stdout",
     "output_type": "stream",
     "text": [
      "cols =  [1]\n",
      "xx_col, label_col, value_col =  1 class class\n",
      "header= ['roc', 'prc', 'Recall', 'Precision', 'f1', 'BA', 'accuracy', 'TN', 'FP', 'FN', 'TP', 'SP', 'SE', 'NPV', 'MCC', 'cohen_kappa']\n",
      "cols =  [1]\n",
      "xx_col, label_col, value_col =  1 class class\n",
      "header= ['roc', 'prc', 'Recall', 'Precision', 'f1', 'BA', 'accuracy', 'TN', 'FP', 'FN', 'TP', 'SP', 'SE', 'NPV', 'MCC', 'cohen_kappa']\n",
      "cols =  [1]\n",
      "xx_col, label_col, value_col =  1 class class\n",
      "header= ['roc', 'prc', 'Recall', 'Precision', 'f1', 'BA', 'accuracy', 'TN', 'FP', 'FN', 'TP', 'SP', 'SE', 'NPV', 'MCC', 'cohen_kappa']\n",
      "cols =  [1]\n",
      "xx_col, label_col, value_col =  1 class class\n",
      "header= ['roc', 'prc', 'Recall', 'Precision', 'f1', 'BA', 'accuracy', 'TN', 'FP', 'FN', 'TP', 'SP', 'SE', 'NPV', 'MCC', 'cohen_kappa']\n",
      "cols =  [1]\n",
      "xx_col, label_col, value_col =  1 class class\n",
      "header= ['roc', 'prc', 'Recall', 'Precision', 'f1', 'BA', 'accuracy', 'TN', 'FP', 'FN', 'TP', 'SP', 'SE', 'NPV', 'MCC', 'cohen_kappa']\n"
     ]
    }
   ],
   "source": [
    "%%bash\n",
    "check_fold='../data/train_noFP_rand'\n",
    "test_path='../data/test_108VS147.csv'\n",
    "preds_base='../data/P_test_108VS147_noFP'\n",
    "\n",
    "for ((i=0; i<5; i++)); do\n",
    "    python ../calc_metric.py -t ${test_path} -p ${preds_base}${i}.csv -c 1\n",
    "done"
   ]
  },
  {
   "cell_type": "code",
   "execution_count": 26,
   "metadata": {},
   "outputs": [],
   "source": [
    "%%bash\n",
    "test_path='test_108VS147.csv'\n",
    "preds_base='P_test_108VS147_noFP'\n",
    "test_base=`basename $test_path .csv`\n",
    "cat ../data/eva_${test_base}_${preds_base}*.csv >../data/eva_folds_${test_base}_${preds_base}.csv"
   ]
  },
  {
   "cell_type": "code",
   "execution_count": 39,
   "metadata": {},
   "outputs": [
    {
     "name": "stdout",
     "output_type": "stream",
     "text": [
      "                                                smiles     class\n",
      "0      C[C@@H]1CCC[NH+]1CCc2oc3ccc(cc3c2)c4cncc(c4)C#N  0.985650\n",
      "1         CCCCCCC[N@@H+](CC)CCCCc1ccc(cc1)[N+](=O)[O-]  0.086860\n",
      "2    CS(=O)(=O)Nc1ccc2OC3(CC[NH+](CC3)C4CCc5cc(ccc5...  0.995024\n",
      "3    Fc1ccc(cc1)n2cc(C3CC[NH+](CCN4CCNC4=S)CC3)c5cc...  0.979510\n",
      "4    Cc1ccc2c(cccc2n1)c3nnc(SCCC[NH+]4CCc5cc6[NH2+]...  0.975559\n",
      "..                                                 ...       ...\n",
      "250  OC[C@H]1CCC[NH+]1CCCOc2ccc3c(Nc4cnn(CC(=O)Nc5c...  0.746229\n",
      "251  Clc1ccc2c(c1)c(cn2C3CCCCC3)C4CC[N+](CCN5CCNC5=...  0.921453\n",
      "252  CC[C@H]1OC(=O)[C@H](C)[C@@H](O[C@H]2C[C@@](C)(...  0.000008\n",
      "253  CN[C@@H](CC#N)[C@@H]1CCN(C1)c2c(F)cc3C(=O)C(=C...  0.012800\n",
      "254    COC(=O)[C@@H]1[C@@H](O)C[C@@H]2CC[C@H]1[N@H+]2C  0.448671\n",
      "\n",
      "[255 rows x 2 columns]\n"
     ]
    }
   ],
   "source": [
    "df = pd.read_csv(os.path.join(data_path,'P_test_108VS147_noFP0.csv'))\n",
    "\n",
    "# Display the DataFrame\n",
    "print(df)"
   ]
  },
  {
   "cell_type": "markdown",
   "metadata": {},
   "source": [
    "The reproduced results are same as the authorsPrediction"
   ]
  },
  {
   "cell_type": "code",
   "execution_count": 52,
   "metadata": {},
   "outputs": [],
   "source": [
    "# In this codeblock I will compare the orginal implementation vs the EMH result\n",
    "\n",
    "import pandas as pd\n",
    "\n",
    "# Read the CSV files into pandas DataFrames\n",
    "df1 = pd.read_csv(os.path.join(data_path, 'P_test_108VS147_noFP4.csv'))\n",
    "df2 = pd.read_csv(os.path.join(data_path, 'EMHPredictions.csv'))\n",
    "\n",
    "# Merge the DataFrames on the common column names\n",
    "merged_df2 = pd.merge(df1, df2, left_on='smiles', right_on='input')\n",
    "\n",
    "# Extract the columns you want to compare from the merged DataFrame\n",
    "column_to_compare_df1 = merged_df2['class']\n",
    "column_to_compare_df2 = merged_df2['activity']\n",
    "\n",
    "# Compare the columns\n",
    "difference = column_to_compare_df1 - column_to_compare_df2\n",
    "\n",
    "# Add a new column to the merged DataFrame to store the differences\n",
    "merged_df2['difference'] = difference\n",
    "merged_df2 = merged_df2[['difference'] + [col for col in merged_df2.columns if col != 'difference']]"
   ]
  },
  {
   "cell_type": "code",
   "execution_count": 51,
   "metadata": {},
   "outputs": [
    {
     "data": {
      "text/html": [
       "<div>\n",
       "<style scoped>\n",
       "    .dataframe tbody tr th:only-of-type {\n",
       "        vertical-align: middle;\n",
       "    }\n",
       "\n",
       "    .dataframe tbody tr th {\n",
       "        vertical-align: top;\n",
       "    }\n",
       "\n",
       "    .dataframe thead th {\n",
       "        text-align: right;\n",
       "    }\n",
       "</style>\n",
       "<table border=\"1\" class=\"dataframe\">\n",
       "  <thead>\n",
       "    <tr style=\"text-align: right;\">\n",
       "      <th></th>\n",
       "      <th>difference</th>\n",
       "      <th>smiles</th>\n",
       "      <th>class</th>\n",
       "      <th>key</th>\n",
       "      <th>input</th>\n",
       "      <th>activity</th>\n",
       "    </tr>\n",
       "  </thead>\n",
       "  <tbody>\n",
       "    <tr>\n",
       "      <th>0</th>\n",
       "      <td>0.098725</td>\n",
       "      <td>C[C@@H]1CCC[NH+]1CCc2oc3ccc(cc3c2)c4cncc(c4)C#N</td>\n",
       "      <td>0.985650</td>\n",
       "      <td>UGELZTGBPPXJPE-OAHLLOKOSA-O</td>\n",
       "      <td>C[C@@H]1CCC[NH+]1CCc2oc3ccc(cc3c2)c4cncc(c4)C#N</td>\n",
       "      <td>0.886925</td>\n",
       "    </tr>\n",
       "    <tr>\n",
       "      <th>1</th>\n",
       "      <td>-0.699078</td>\n",
       "      <td>CCCCCCC[N@@H+](CC)CCCCc1ccc(cc1)[N+](=O)[O-]</td>\n",
       "      <td>0.086860</td>\n",
       "      <td>YTYATOMQOOFRNA-UHFFFAOYSA-O</td>\n",
       "      <td>CCCCCCC[N@@H+](CC)CCCCc1ccc(cc1)[N+](=O)[O-]</td>\n",
       "      <td>0.785938</td>\n",
       "    </tr>\n",
       "    <tr>\n",
       "      <th>2</th>\n",
       "      <td>0.144352</td>\n",
       "      <td>CS(=O)(=O)Nc1ccc2OC3(CC[NH+](CC3)C4CCc5cc(ccc5...</td>\n",
       "      <td>0.995024</td>\n",
       "      <td>NIYGLRKUBPNXQS-UHFFFAOYSA-O</td>\n",
       "      <td>CS(=O)(=O)Nc1ccc2OC3(CC[NH+](CC3)C4CCc5cc(ccc5...</td>\n",
       "      <td>0.850671</td>\n",
       "    </tr>\n",
       "    <tr>\n",
       "      <th>3</th>\n",
       "      <td>0.093177</td>\n",
       "      <td>Fc1ccc(cc1)n2cc(C3CC[NH+](CCN4CCNC4=S)CC3)c5cc...</td>\n",
       "      <td>0.979510</td>\n",
       "      <td>UDRWVFGKMDCPTL-UHFFFAOYSA-O</td>\n",
       "      <td>Fc1ccc(cc1)n2cc(C3CC[NH+](CCN4CCNC4=S)CC3)c5cc...</td>\n",
       "      <td>0.886333</td>\n",
       "    </tr>\n",
       "    <tr>\n",
       "      <th>4</th>\n",
       "      <td>0.201407</td>\n",
       "      <td>Cc1ccc2c(cccc2n1)c3nnc(SCCC[NH+]4CCc5cc6[NH2+]...</td>\n",
       "      <td>0.975559</td>\n",
       "      <td>JQEQULOLEPTBRS-UHFFFAOYSA-P</td>\n",
       "      <td>Cc1ccc2c(cccc2n1)c3nnc(SCCC[NH+]4CCc5cc6[NH2+]...</td>\n",
       "      <td>0.774152</td>\n",
       "    </tr>\n",
       "    <tr>\n",
       "      <th>...</th>\n",
       "      <td>...</td>\n",
       "      <td>...</td>\n",
       "      <td>...</td>\n",
       "      <td>...</td>\n",
       "      <td>...</td>\n",
       "      <td>...</td>\n",
       "    </tr>\n",
       "    <tr>\n",
       "      <th>250</th>\n",
       "      <td>-0.099627</td>\n",
       "      <td>OC[C@H]1CCC[NH+]1CCCOc2ccc3c(Nc4cnn(CC(=O)Nc5c...</td>\n",
       "      <td>0.746229</td>\n",
       "      <td>BQSSHYNPAGSOBT-LJQANCHMSA-O</td>\n",
       "      <td>OC[C@H]1CCC[NH+]1CCCOc2ccc3c(Nc4cnn(CC(=O)Nc5c...</td>\n",
       "      <td>0.845857</td>\n",
       "    </tr>\n",
       "    <tr>\n",
       "      <th>251</th>\n",
       "      <td>0.046189</td>\n",
       "      <td>Clc1ccc2c(c1)c(cn2C3CCCCC3)C4CC[N+](CCN5CCNC5=...</td>\n",
       "      <td>0.921453</td>\n",
       "      <td>CLQSZXFVERHVFU-UHFFFAOYSA-N</td>\n",
       "      <td>Clc1ccc2c(c1)c(cn2C3CCCCC3)C4CC[N+](CCN5CCNC5=...</td>\n",
       "      <td>0.875263</td>\n",
       "    </tr>\n",
       "    <tr>\n",
       "      <th>252</th>\n",
       "      <td>-0.208743</td>\n",
       "      <td>CC[C@H]1OC(=O)[C@H](C)[C@@H](O[C@H]2C[C@@](C)(...</td>\n",
       "      <td>0.000008</td>\n",
       "      <td>PJVYTFDJHSYNLB-QNPWSHAKSA-N</td>\n",
       "      <td>CC[C@H]1OC(=O)[C@H](C)[C@@H](O[C@H]2C[C@@](C)(...</td>\n",
       "      <td>0.208751</td>\n",
       "    </tr>\n",
       "    <tr>\n",
       "      <th>253</th>\n",
       "      <td>-0.377427</td>\n",
       "      <td>CN[C@@H](CC#N)[C@@H]1CCN(C1)c2c(F)cc3C(=O)C(=C...</td>\n",
       "      <td>0.012800</td>\n",
       "      <td>DCRAPCRZDJGSOF-PXAZEXFGSA-M</td>\n",
       "      <td>CN[C@@H](CC#N)[C@@H]1CCN(C1)c2c(F)cc3C(=O)C(=C...</td>\n",
       "      <td>0.390227</td>\n",
       "    </tr>\n",
       "    <tr>\n",
       "      <th>254</th>\n",
       "      <td>0.250036</td>\n",
       "      <td>COC(=O)[C@@H]1[C@@H](O)C[C@@H]2CC[C@H]1[N@H+]2C</td>\n",
       "      <td>0.448671</td>\n",
       "      <td>QIQNNBXHAYSQRY-KZVJFYERSA-O</td>\n",
       "      <td>COC(=O)[C@@H]1[C@@H](O)C[C@@H]2CC[C@H]1[N@H+]2C</td>\n",
       "      <td>0.198635</td>\n",
       "    </tr>\n",
       "  </tbody>\n",
       "</table>\n",
       "<p>255 rows × 6 columns</p>\n",
       "</div>"
      ],
      "text/plain": [
       "     difference                                             smiles     class  \\\n",
       "0      0.098725    C[C@@H]1CCC[NH+]1CCc2oc3ccc(cc3c2)c4cncc(c4)C#N  0.985650   \n",
       "1     -0.699078       CCCCCCC[N@@H+](CC)CCCCc1ccc(cc1)[N+](=O)[O-]  0.086860   \n",
       "2      0.144352  CS(=O)(=O)Nc1ccc2OC3(CC[NH+](CC3)C4CCc5cc(ccc5...  0.995024   \n",
       "3      0.093177  Fc1ccc(cc1)n2cc(C3CC[NH+](CCN4CCNC4=S)CC3)c5cc...  0.979510   \n",
       "4      0.201407  Cc1ccc2c(cccc2n1)c3nnc(SCCC[NH+]4CCc5cc6[NH2+]...  0.975559   \n",
       "..          ...                                                ...       ...   \n",
       "250   -0.099627  OC[C@H]1CCC[NH+]1CCCOc2ccc3c(Nc4cnn(CC(=O)Nc5c...  0.746229   \n",
       "251    0.046189  Clc1ccc2c(c1)c(cn2C3CCCCC3)C4CC[N+](CCN5CCNC5=...  0.921453   \n",
       "252   -0.208743  CC[C@H]1OC(=O)[C@H](C)[C@@H](O[C@H]2C[C@@](C)(...  0.000008   \n",
       "253   -0.377427  CN[C@@H](CC#N)[C@@H]1CCN(C1)c2c(F)cc3C(=O)C(=C...  0.012800   \n",
       "254    0.250036    COC(=O)[C@@H]1[C@@H](O)C[C@@H]2CC[C@H]1[N@H+]2C  0.448671   \n",
       "\n",
       "                             key  \\\n",
       "0    UGELZTGBPPXJPE-OAHLLOKOSA-O   \n",
       "1    YTYATOMQOOFRNA-UHFFFAOYSA-O   \n",
       "2    NIYGLRKUBPNXQS-UHFFFAOYSA-O   \n",
       "3    UDRWVFGKMDCPTL-UHFFFAOYSA-O   \n",
       "4    JQEQULOLEPTBRS-UHFFFAOYSA-P   \n",
       "..                           ...   \n",
       "250  BQSSHYNPAGSOBT-LJQANCHMSA-O   \n",
       "251  CLQSZXFVERHVFU-UHFFFAOYSA-N   \n",
       "252  PJVYTFDJHSYNLB-QNPWSHAKSA-N   \n",
       "253  DCRAPCRZDJGSOF-PXAZEXFGSA-M   \n",
       "254  QIQNNBXHAYSQRY-KZVJFYERSA-O   \n",
       "\n",
       "                                                 input  activity  \n",
       "0      C[C@@H]1CCC[NH+]1CCc2oc3ccc(cc3c2)c4cncc(c4)C#N  0.886925  \n",
       "1         CCCCCCC[N@@H+](CC)CCCCc1ccc(cc1)[N+](=O)[O-]  0.785938  \n",
       "2    CS(=O)(=O)Nc1ccc2OC3(CC[NH+](CC3)C4CCc5cc(ccc5...  0.850671  \n",
       "3    Fc1ccc(cc1)n2cc(C3CC[NH+](CCN4CCNC4=S)CC3)c5cc...  0.886333  \n",
       "4    Cc1ccc2c(cccc2n1)c3nnc(SCCC[NH+]4CCc5cc6[NH2+]...  0.774152  \n",
       "..                                                 ...       ...  \n",
       "250  OC[C@H]1CCC[NH+]1CCCOc2ccc3c(Nc4cnn(CC(=O)Nc5c...  0.845857  \n",
       "251  Clc1ccc2c(c1)c(cn2C3CCCCC3)C4CC[N+](CCN5CCNC5=...  0.875263  \n",
       "252  CC[C@H]1OC(=O)[C@H](C)[C@@H](O[C@H]2C[C@@](C)(...  0.208751  \n",
       "253  CN[C@@H](CC#N)[C@@H]1CCN(C1)c2c(F)cc3C(=O)C(=C...  0.390227  \n",
       "254    COC(=O)[C@@H]1[C@@H](O)C[C@@H]2CC[C@H]1[N@H+]2C  0.198635  \n",
       "\n",
       "[255 rows x 6 columns]"
      ]
     },
     "execution_count": 51,
     "metadata": {},
     "output_type": "execute_result"
    }
   ],
   "source": [
    "merged_df2"
   ]
  },
  {
   "cell_type": "code",
   "execution_count": null,
   "metadata": {},
   "outputs": [],
   "source": []
  }
 ],
 "metadata": {
  "kernelspec": {
   "display_name": "Python 3 (ipykernel)",
   "language": "python",
   "name": "python3"
  },
  "language_info": {
   "codemirror_mode": {
    "name": "ipython",
    "version": 3
   },
   "file_extension": ".py",
   "mimetype": "text/x-python",
   "name": "python",
   "nbconvert_exporter": "python",
   "pygments_lexer": "ipython3",
   "version": "3.11.8"
  }
 },
 "nbformat": 4,
 "nbformat_minor": 4
}
